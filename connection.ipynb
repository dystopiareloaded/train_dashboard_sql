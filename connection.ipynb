{
 "cells": [
  {
   "cell_type": "code",
   "execution_count": 1,
   "metadata": {},
   "outputs": [
    {
     "name": "stdout",
     "output_type": "stream",
     "text": [
      "Collecting psycopg2\n",
      "  Downloading psycopg2-2.9.10-cp312-cp312-win_amd64.whl.metadata (5.0 kB)\n",
      "Downloading psycopg2-2.9.10-cp312-cp312-win_amd64.whl (1.2 MB)\n",
      "   ---------------------------------------- 0.0/1.2 MB ? eta -:--:--\n",
      "   --------------------------- ------------ 0.8/1.2 MB 4.8 MB/s eta 0:00:01\n",
      "   ---------------------------------------- 1.2/1.2 MB 4.1 MB/s eta 0:00:00\n",
      "Installing collected packages: psycopg2\n",
      "Successfully installed psycopg2-2.9.10\n"
     ]
    },
    {
     "name": "stderr",
     "output_type": "stream",
     "text": [
      "WARNING: Ignoring invalid distribution ~treamlit (D:\\anaconda3\\Lib\\site-packages)\n",
      "WARNING: Ignoring invalid distribution ~treamlit (D:\\anaconda3\\Lib\\site-packages)\n",
      "WARNING: Ignoring invalid distribution ~treamlit (D:\\anaconda3\\Lib\\site-packages)\n"
     ]
    }
   ],
   "source": [
    "!pip install psycopg2"
   ]
  },
  {
   "cell_type": "code",
   "execution_count": 4,
   "metadata": {},
   "outputs": [
    {
     "name": "stdout",
     "output_type": "stream",
     "text": [
      "Collecting psycopg[binary]\n",
      "  Downloading psycopg-3.2.9-py3-none-any.whl.metadata (4.5 kB)\n",
      "Requirement already satisfied: typing-extensions>=4.6 in d:\\anaconda3\\lib\\site-packages (from psycopg[binary]) (4.11.0)\n",
      "Requirement already satisfied: tzdata in d:\\anaconda3\\lib\\site-packages (from psycopg[binary]) (2023.3)\n",
      "Collecting psycopg-binary==3.2.9 (from psycopg[binary])\n",
      "  Downloading psycopg_binary-3.2.9-cp312-cp312-win_amd64.whl.metadata (3.0 kB)\n",
      "Downloading psycopg_binary-3.2.9-cp312-cp312-win_amd64.whl (2.9 MB)\n",
      "   ---------------------------------------- 0.0/2.9 MB ? eta -:--:--\n",
      "   ------- -------------------------------- 0.5/2.9 MB 3.4 MB/s eta 0:00:01\n",
      "   --------------------- ------------------ 1.6/2.9 MB 4.0 MB/s eta 0:00:01\n",
      "   -------------------------------- ------- 2.4/2.9 MB 4.1 MB/s eta 0:00:01\n",
      "   ---------------------------------------- 2.9/2.9 MB 4.2 MB/s eta 0:00:00\n",
      "Downloading psycopg-3.2.9-py3-none-any.whl (202 kB)\n",
      "Installing collected packages: psycopg-binary, psycopg\n",
      "Successfully installed psycopg-3.2.9 psycopg-binary-3.2.9\n"
     ]
    },
    {
     "name": "stderr",
     "output_type": "stream",
     "text": [
      "WARNING: Ignoring invalid distribution ~treamlit (D:\\anaconda3\\Lib\\site-packages)\n",
      "WARNING: Ignoring invalid distribution ~treamlit (D:\\anaconda3\\Lib\\site-packages)\n",
      "WARNING: Ignoring invalid distribution ~treamlit (D:\\anaconda3\\Lib\\site-packages)\n"
     ]
    }
   ],
   "source": [
    "!pip install psycopg[binary]"
   ]
  },
  {
   "cell_type": "code",
   "execution_count": 2,
   "metadata": {},
   "outputs": [],
   "source": [
    "import pymysql\n",
    "from sqlalchemy import create_engine\n",
    "import pandas as pd"
   ]
  },
  {
   "cell_type": "code",
   "execution_count": 10,
   "metadata": {},
   "outputs": [
    {
     "name": "stdout",
     "output_type": "stream",
     "text": [
      "Connection successful!\n",
      "Data uploaded successfully!\n"
     ]
    }
   ],
   "source": [
    "from sqlalchemy import create_engine\n",
    "import pandas as pd\n",
    "\n",
    "# Use the Pooler connection details (IPv4 compatible)\n",
    "USER = \"postgres.yboegmjeqsadtiqkhlek\"\n",
    "PASSWORD = \"kaustav007\"\n",
    "HOST = \"aws-0-ap-south-1.pooler.supabase.com\"\n",
    "PORT = \"6543\"\n",
    "DBNAME = \"postgres\"\n",
    "\n",
    "# Build connection string with sslmode=require\n",
    "DATABASE_URL = f\"postgresql+psycopg2://{USER}:{PASSWORD}@{HOST}:{PORT}/{DBNAME}?sslmode=require\"\n",
    "\n",
    "# Create the SQLAlchemy engine\n",
    "engine = create_engine(DATABASE_URL)\n",
    "\n",
    "# Test the connection\n",
    "try:\n",
    "    with engine.connect() as conn:\n",
    "        print(\"Connection successful!\")\n",
    "except Exception as e:\n",
    "    print(\"Failed to connect:\", e)\n",
    "\n",
    "# Load CSV\n",
    "df = pd.read_csv(\"fixed_train_ticket_random_passengers.csv\")\n",
    "\n",
    "# Write to the database table\n",
    "try:\n",
    "    df.to_sql(\"train_tickets\", con=engine, if_exists=\"replace\", index=False)\n",
    "    print(\"Data uploaded successfully!\")\n",
    "except Exception as e:\n",
    "    print(\"Error during upload:\", e)\n"
   ]
  }
 ],
 "metadata": {
  "kernelspec": {
   "display_name": "base",
   "language": "python",
   "name": "python3"
  },
  "language_info": {
   "codemirror_mode": {
    "name": "ipython",
    "version": 3
   },
   "file_extension": ".py",
   "mimetype": "text/x-python",
   "name": "python",
   "nbconvert_exporter": "python",
   "pygments_lexer": "ipython3",
   "version": "3.12.7"
  }
 },
 "nbformat": 4,
 "nbformat_minor": 2
}
